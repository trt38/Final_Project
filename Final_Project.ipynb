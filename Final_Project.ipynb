{
  "nbformat": 4,
  "nbformat_minor": 0,
  "metadata": {
    "colab": {
      "name": "Final_Project.ipynb",
      "provenance": [],
      "collapsed_sections": []
    },
    "kernelspec": {
      "name": "python3",
      "display_name": "Python 3"
    }
  },
  "cells": [
    {
      "cell_type": "code",
      "metadata": {
        "colab": {
          "base_uri": "https://localhost:8080/"
        },
        "id": "7UeTEOHCICPw",
        "outputId": "e9f16cdd-0335-4da2-809d-4c5b22f5c4f6"
      },
      "source": [
        "import os\r\n",
        "# Find the latest version of spark 3.0  from http://www-us.apache.org/dist/spark/ and enter as the spark version\r\n",
        "# For example:\r\n",
        "spark_version = 'spark-3.0.1'\r\n",
        "#spark_version = 'spark-3.0.1'\r\n",
        "os.environ['SPARK_VERSION']=spark_version\r\n",
        "\r\n",
        "# Install Spark and Java\r\n",
        "!apt-get update\r\n",
        "!apt-get install openjdk-11-jdk-headless -qq > /dev/null\r\n",
        "!wget -q http://www-us.apache.org/dist/spark/$SPARK_VERSION/$SPARK_VERSION-bin-hadoop2.7.tgz\r\n",
        "!tar xf $SPARK_VERSION-bin-hadoop2.7.tgz\r\n",
        "!pip install -q findspark\r\n",
        "\r\n",
        "# Set Environment Variables\r\n",
        "os.environ[\"JAVA_HOME\"] = \"/usr/lib/jvm/java-11-openjdk-amd64\"\r\n",
        "os.environ[\"SPARK_HOME\"] = f\"/content/{spark_version}-bin-hadoop2.7\"\r\n",
        "\r\n",
        "# Start a SparkSession\r\n",
        "import findspark\r\n",
        "findspark.init()"
      ],
      "execution_count": null,
      "outputs": [
        {
          "output_type": "stream",
          "text": [
            "\r0% [Working]\r            \rIgn:1 https://developer.download.nvidia.com/compute/cuda/repos/ubuntu1804/x86_64  InRelease\n",
            "\r0% [Connecting to archive.ubuntu.com (91.189.88.142)] [Connecting to security.u\r                                                                               \rIgn:2 https://developer.download.nvidia.com/compute/machine-learning/repos/ubuntu1804/x86_64  InRelease\n",
            "\r0% [Connecting to archive.ubuntu.com (91.189.88.142)] [Waiting for headers] [Co\r                                                                               \rHit:3 https://developer.download.nvidia.com/compute/cuda/repos/ubuntu1804/x86_64  Release\n",
            "\r0% [Waiting for headers] [Waiting for headers] [Connecting to cloud.r-project.o\r0% [Release.gpg gpgv 697 B] [Waiting for headers] [Waiting for headers] [Connec\r                                                                               \rGet:4 https://developer.download.nvidia.com/compute/machine-learning/repos/ubuntu1804/x86_64  Release [564 B]\n",
            "\r0% [Release.gpg gpgv 697 B] [Waiting for headers] [Waiting for headers] [Connec\r                                                                               \rGet:5 https://developer.download.nvidia.com/compute/machine-learning/repos/ubuntu1804/x86_64  Release.gpg [833 B]\n",
            "\r0% [Release.gpg gpgv 697 B] [Waiting for headers] [Waiting for headers] [Connec\r                                                                               \rGet:6 https://cloud.r-project.org/bin/linux/ubuntu bionic-cran40/ InRelease [3,626 B]\n",
            "\r0% [Release.gpg gpgv 697 B] [Waiting for headers] [Waiting for headers] [6 InRe\r0% [Release.gpg gpgv 697 B] [Waiting for headers] [Waiting for headers] [Waitin\r                                                                               \rGet:7 http://ppa.launchpad.net/c2d4u.team/c2d4u4.0+/ubuntu bionic InRelease [15.9 kB]\n",
            "Get:8 http://security.ubuntu.com/ubuntu bionic-security InRelease [88.7 kB]\n",
            "Hit:9 http://archive.ubuntu.com/ubuntu bionic InRelease\n",
            "Get:10 http://archive.ubuntu.com/ubuntu bionic-updates InRelease [88.7 kB]\n",
            "Hit:12 http://ppa.launchpad.net/cran/libgit2/ubuntu bionic InRelease\n",
            "Get:13 https://developer.download.nvidia.com/compute/machine-learning/repos/ubuntu1804/x86_64  Packages [66.5 kB]\n",
            "Get:14 http://ppa.launchpad.net/graphics-drivers/ppa/ubuntu bionic InRelease [21.3 kB]\n",
            "Get:15 http://archive.ubuntu.com/ubuntu bionic-backports InRelease [74.6 kB]\n",
            "Get:16 https://cloud.r-project.org/bin/linux/ubuntu bionic-cran40/ Packages [43.6 kB]\n",
            "Get:17 http://ppa.launchpad.net/c2d4u.team/c2d4u4.0+/ubuntu bionic/main Sources [1,707 kB]\n",
            "Get:18 http://security.ubuntu.com/ubuntu bionic-security/main amd64 Packages [1,872 kB]\n",
            "Get:19 http://archive.ubuntu.com/ubuntu bionic-updates/main amd64 Packages [2,298 kB]\n",
            "Get:20 http://security.ubuntu.com/ubuntu bionic-security/restricted amd64 Packages [278 kB]\n",
            "Get:21 http://security.ubuntu.com/ubuntu bionic-security/universe amd64 Packages [1,376 kB]\n",
            "Get:22 http://ppa.launchpad.net/c2d4u.team/c2d4u4.0+/ubuntu bionic/main amd64 Packages [874 kB]\n",
            "Get:23 http://archive.ubuntu.com/ubuntu bionic-updates/universe amd64 Packages [2,140 kB]\n",
            "Get:24 http://archive.ubuntu.com/ubuntu bionic-updates/multiverse amd64 Packages [45.6 kB]\n",
            "Get:25 http://archive.ubuntu.com/ubuntu bionic-updates/restricted amd64 Packages [304 kB]\n",
            "Get:26 http://ppa.launchpad.net/graphics-drivers/ppa/ubuntu bionic/main amd64 Packages [49.2 kB]\n",
            "Fetched 11.3 MB in 4s (3,208 kB/s)\n",
            "Reading package lists... Done\n"
          ],
          "name": "stdout"
        }
      ]
    },
    {
      "cell_type": "code",
      "metadata": {
        "id": "OQY0NH8uIM2K"
      },
      "source": [
        "# Start Spark session\r\n",
        "from pyspark.sql import SparkSession\r\n",
        "spark = SparkSession.builder.appName(\"NaiveBayes\").getOrCreate()"
      ],
      "execution_count": null,
      "outputs": []
    },
    {
      "cell_type": "code",
      "metadata": {
        "id": "lgpsuU6bI1Kh"
      },
      "source": [
        "train_df = spark.read.csv(\"./train.csv\", inferSchema= True, header = True)\r\n",
        "test_df = spark.read.csv(\"./test.csv\", inferSchema= True, header = True)"
      ],
      "execution_count": null,
      "outputs": []
    },
    {
      "cell_type": "code",
      "metadata": {
        "colab": {
          "base_uri": "https://localhost:8080/"
        },
        "id": "OIA6RisNJDoi",
        "outputId": "a0078936-265a-4f27-9d15-3c5d5d01a71d"
      },
      "source": [
        "train_df.show()"
      ],
      "execution_count": null,
      "outputs": [
        {
          "output_type": "stream",
          "text": [
            "+---+-------+--------+--------------------+------+\n",
            "| id|keyword|location|                text|target|\n",
            "+---+-------+--------+--------------------+------+\n",
            "|  1|   null|    null|Our Deeds are the...|     1|\n",
            "|  4|   null|    null|Forest fire near ...|     1|\n",
            "|  5|   null|    null|All residents ask...|     1|\n",
            "|  6|   null|    null|13,000 people rec...|     1|\n",
            "|  7|   null|    null|Just got sent thi...|     1|\n",
            "|  8|   null|    null|#RockyFire Update...|     1|\n",
            "| 10|   null|    null|#flood #disaster ...|     1|\n",
            "| 13|   null|    null|I'm on top of the...|     1|\n",
            "| 14|   null|    null|There's an emerge...|     1|\n",
            "| 15|   null|    null|I'm afraid that t...|     1|\n",
            "| 16|   null|    null|Three people died...|     1|\n",
            "| 17|   null|    null|Haha South Tampa ...|     1|\n",
            "| 18|   null|    null|#raining #floodin...|     1|\n",
            "| 19|   null|    null|#Flood in Bago My...|     1|\n",
            "| 20|   null|    null|Damage to school ...|     1|\n",
            "| 23|   null|    null|      What's up man?|     0|\n",
            "| 24|   null|    null|       I love fruits|     0|\n",
            "| 25|   null|    null|    Summer is lovely|     0|\n",
            "| 26|   null|    null|   My car is so fast|     0|\n",
            "| 28|   null|    null|What a goooooooaa...|     0|\n",
            "+---+-------+--------+--------------------+------+\n",
            "only showing top 20 rows\n",
            "\n"
          ],
          "name": "stdout"
        }
      ]
    },
    {
      "cell_type": "code",
      "metadata": {
        "colab": {
          "base_uri": "https://localhost:8080/"
        },
        "id": "V2fRUd1OJpnY",
        "outputId": "0af05648-b404-4094-b493-27313dbdbf37"
      },
      "source": [
        "train_df.printSchema()"
      ],
      "execution_count": null,
      "outputs": [
        {
          "output_type": "stream",
          "text": [
            "root\n",
            " |-- id: string (nullable = true)\n",
            " |-- keyword: string (nullable = true)\n",
            " |-- location: string (nullable = true)\n",
            " |-- text: string (nullable = true)\n",
            " |-- target: integer (nullable = true)\n",
            "\n"
          ],
          "name": "stdout"
        }
      ]
    },
    {
      "cell_type": "code",
      "metadata": {
        "colab": {
          "base_uri": "https://localhost:8080/"
        },
        "id": "naNgGYVuL55j",
        "outputId": "a282ad1f-fa95-442b-cc07-bcf8c09394df"
      },
      "source": [
        "train_df.describe()"
      ],
      "execution_count": null,
      "outputs": [
        {
          "output_type": "execute_result",
          "data": {
            "text/plain": [
              "DataFrame[summary: string, id: string, keyword: string, location: string, text: string, target: string]"
            ]
          },
          "metadata": {
            "tags": []
          },
          "execution_count": 14
        }
      ]
    },
    {
      "cell_type": "code",
      "metadata": {
        "colab": {
          "base_uri": "https://localhost:8080/"
        },
        "id": "1se4Pp1uMUM_",
        "outputId": "70a1307a-3f90-4679-ad9c-2e5bf29fb76b"
      },
      "source": [
        "#Remove extraneous columns\r\n",
        "\r\n",
        "trainer_df = train_df.select(\"id\", \"text\", \"target\")\r\n",
        "\r\n",
        "trainer_df.show()"
      ],
      "execution_count": null,
      "outputs": [
        {
          "output_type": "stream",
          "text": [
            "+---+--------------------+------+\n",
            "| id|                text|target|\n",
            "+---+--------------------+------+\n",
            "|  1|Our Deeds are the...|     1|\n",
            "|  4|Forest fire near ...|     1|\n",
            "|  5|All residents ask...|     1|\n",
            "|  6|13,000 people rec...|     1|\n",
            "|  7|Just got sent thi...|     1|\n",
            "|  8|#RockyFire Update...|     1|\n",
            "| 10|#flood #disaster ...|     1|\n",
            "| 13|I'm on top of the...|     1|\n",
            "| 14|There's an emerge...|     1|\n",
            "| 15|I'm afraid that t...|     1|\n",
            "| 16|Three people died...|     1|\n",
            "| 17|Haha South Tampa ...|     1|\n",
            "| 18|#raining #floodin...|     1|\n",
            "| 19|#Flood in Bago My...|     1|\n",
            "| 20|Damage to school ...|     1|\n",
            "| 23|      What's up man?|     0|\n",
            "| 24|       I love fruits|     0|\n",
            "| 25|    Summer is lovely|     0|\n",
            "| 26|   My car is so fast|     0|\n",
            "| 28|What a goooooooaa...|     0|\n",
            "+---+--------------------+------+\n",
            "only showing top 20 rows\n",
            "\n"
          ],
          "name": "stdout"
        }
      ]
    },
    {
      "cell_type": "code",
      "metadata": {
        "id": "r1ohIbZiNHQv"
      },
      "source": [
        "trainer_df = trainer_df.dropna()"
      ],
      "execution_count": null,
      "outputs": []
    },
    {
      "cell_type": "code",
      "metadata": {
        "id": "SLiw3PMHRPC4"
      },
      "source": [
        "tester_df = test_df.dropna()"
      ],
      "execution_count": null,
      "outputs": []
    },
    {
      "cell_type": "code",
      "metadata": {
        "id": "zMGL2cMcNSeg"
      },
      "source": [
        "from pyspark.ml.feature import Tokenizer, StopWordsRemover, HashingTF, IDF, StringIndexer\r\n",
        "# Create all the features to the data set\r\n",
        "#pos_neg_to_num = StringIndexer(inputCol='class',outputCol='label')\r\n",
        "tokenizer = Tokenizer(inputCol=\"text\", outputCol=\"token_text\")\r\n",
        "stopremove = StopWordsRemover(inputCol='token_text',outputCol='stop_tokens')\r\n",
        "hashingTF = HashingTF(inputCol=\"stop_tokens\", outputCol='hash_token')\r\n",
        "idf = IDF(inputCol='hash_token', outputCol='idf_token')"
      ],
      "execution_count": null,
      "outputs": []
    },
    {
      "cell_type": "code",
      "metadata": {
        "id": "uFNpeHHhN1dw"
      },
      "source": [
        "from pyspark.ml.feature import VectorAssembler\r\n",
        "from pyspark.ml.linalg import Vector\r\n",
        "\r\n",
        "# Create feature vectors\r\n",
        "clean_up = VectorAssembler(inputCols=['idf_token'], outputCol='features')"
      ],
      "execution_count": null,
      "outputs": []
    },
    {
      "cell_type": "code",
      "metadata": {
        "id": "EUVe0vUZN6-A"
      },
      "source": [
        "# Create a and run a data processing Pipeline\r\n",
        "from pyspark.ml import Pipeline\r\n",
        "data_prep_pipeline = Pipeline(stages=[tokenizer, stopremove, hashingTF, idf, clean_up])"
      ],
      "execution_count": null,
      "outputs": []
    },
    {
      "cell_type": "code",
      "metadata": {
        "id": "77IST7uxO7do"
      },
      "source": [
        "# Fit and transform the pipeline\r\n",
        "cleaner_train = data_prep_pipeline.fit(trainer_df)\r\n",
        "cleaned_train = cleaner.transform(trainer_df)"
      ],
      "execution_count": null,
      "outputs": []
    },
    {
      "cell_type": "code",
      "metadata": {
        "id": "EwqbB2XPRGEU"
      },
      "source": [
        "# Fit and transform the pipeline\r\n",
        "cleaner_test = data_prep_pipeline.fit(tester_df)\r\n",
        "cleaned_test = cleaner.transform(tester_df)"
      ],
      "execution_count": null,
      "outputs": []
    },
    {
      "cell_type": "code",
      "metadata": {
        "id": "1CiBOsR5SvSh"
      },
      "source": [
        "from pyspark.sql.functions import col\r\n",
        "\r\n",
        "cleaned_train = cleaned_train.withColumn(\"label\",col('target'))\r\n",
        "cleaned_test = cleaned_train.withColumn(\"label\",col('target'))"
      ],
      "execution_count": null,
      "outputs": []
    },
    {
      "cell_type": "code",
      "metadata": {
        "colab": {
          "base_uri": "https://localhost:8080/"
        },
        "id": "kIv78CMpPAKv",
        "outputId": "5a8d84f0-60ce-45df-cff8-005e97b28875"
      },
      "source": [
        "# Show label and resulting features\r\n",
        "cleaned_train.show()"
      ],
      "execution_count": null,
      "outputs": [
        {
          "output_type": "stream",
          "text": [
            "+---+--------------------+------+--------------------+--------------------+--------------------+--------------------+--------------------+-----+\n",
            "| id|                text|target|          token_text|         stop_tokens|          hash_token|           idf_token|            features|label|\n",
            "+---+--------------------+------+--------------------+--------------------+--------------------+--------------------+--------------------+-----+\n",
            "|  1|Our Deeds are the...|     1|[our, deeds, are,...|[deeds, reason, #...|(262144,[24370,35...|(262144,[24370,35...|(262144,[24370,35...|    1|\n",
            "|  4|Forest fire near ...|     1|[forest, fire, ne...|[forest, fire, ne...|(262144,[55310,72...|(262144,[55310,72...|(262144,[55310,72...|    1|\n",
            "|  5|All residents ask...|     1|[all, residents, ...|[residents, asked...|(262144,[38983,70...|(262144,[38983,70...|(262144,[38983,70...|    1|\n",
            "|  6|13,000 people rec...|     1|[13,000, people, ...|[13,000, people, ...|(262144,[38983,11...|(262144,[38983,11...|(262144,[38983,11...|    1|\n",
            "|  7|Just got sent thi...|     1|[just, got, sent,...|[got, sent, photo...|(262144,[52518,52...|(262144,[52518,52...|(262144,[52518,52...|    1|\n",
            "|  8|#RockyFire Update...|     1|[#rockyfire, upda...|[#rockyfire, upda...|(262144,[355,7588...|(262144,[355,7588...|(262144,[355,7588...|    1|\n",
            "| 10|#flood #disaster ...|     1|[#flood, #disaste...|[#flood, #disaste...|(262144,[1797,124...|(262144,[1797,124...|(262144,[1797,124...|    1|\n",
            "| 13|I'm on top of the...|     1|[i'm, on, top, of...|[top, hill, see, ...|(262144,[4106,853...|(262144,[4106,853...|(262144,[4106,853...|    1|\n",
            "| 14|There's an emerge...|     1|[there's, an, eme...|[emergency, evacu...|(262144,[38983,70...|(262144,[38983,70...|(262144,[38983,70...|    1|\n",
            "| 15|I'm afraid that t...|     1|[i'm, afraid, tha...|[afraid, tornado,...|(262144,[12409,87...|(262144,[12409,87...|(262144,[12409,87...|    1|\n",
            "| 16|Three people died...|     1|[three, people, d...|[three, people, d...|(262144,[59791,96...|(262144,[59791,96...|(262144,[59791,96...|    1|\n",
            "| 17|Haha South Tampa ...|     1|[haha, south, tam...|[haha, south, tam...|(262144,[33053,59...|(262144,[33053,59...|(262144,[33053,59...|    1|\n",
            "| 18|#raining #floodin...|     1|[#raining, #flood...|[#raining, #flood...|(262144,[8943,191...|(262144,[8943,191...|(262144,[8943,191...|    1|\n",
            "| 19|#Flood in Bago My...|     1|[#flood, in, bago...|[#flood, bago, my...|(262144,[77073,10...|(262144,[77073,10...|(262144,[77073,10...|    1|\n",
            "| 20|Damage to school ...|     1|[damage, to, scho...|[damage, school, ...|(262144,[12826,61...|(262144,[12826,61...|(262144,[12826,61...|    1|\n",
            "| 23|      What's up man?|     0|  [what's, up, man?]|              [man?]|(262144,[223120],...|(262144,[223120],...|(262144,[223120],...|    0|\n",
            "| 24|       I love fruits|     0|   [i, love, fruits]|      [love, fruits]|(262144,[186480,2...|(262144,[186480,2...|(262144,[186480,2...|    0|\n",
            "| 25|    Summer is lovely|     0|[summer, is, lovely]|    [summer, lovely]|(262144,[167401,1...|(262144,[167401,1...|(262144,[167401,1...|    0|\n",
            "| 26|   My car is so fast|     0|[my, car, is, so,...|         [car, fast]|(262144,[71578,11...|(262144,[71578,11...|(262144,[71578,11...|    0|\n",
            "| 28|What a goooooooaa...|     0|[what, a, goooooo...|[goooooooaaaaaal!...|(262144,[456],[1.0])|(262144,[456],[8....|(262144,[456],[8....|    0|\n",
            "+---+--------------------+------+--------------------+--------------------+--------------------+--------------------+--------------------+-----+\n",
            "only showing top 20 rows\n",
            "\n"
          ],
          "name": "stdout"
        }
      ]
    },
    {
      "cell_type": "code",
      "metadata": {
        "colab": {
          "base_uri": "https://localhost:8080/"
        },
        "id": "4LsQJHPfRllD",
        "outputId": "d4fc8d0d-71e7-4549-b252-e31fd51c1631"
      },
      "source": [
        "cleaned_test.show()"
      ],
      "execution_count": null,
      "outputs": [
        {
          "output_type": "stream",
          "text": [
            "+---+--------------------+------+--------------------+--------------------+--------------------+--------------------+--------------------+-----+\n",
            "| id|                text|target|          token_text|         stop_tokens|          hash_token|           idf_token|            features|label|\n",
            "+---+--------------------+------+--------------------+--------------------+--------------------+--------------------+--------------------+-----+\n",
            "|  1|Our Deeds are the...|     1|[our, deeds, are,...|[deeds, reason, #...|(262144,[24370,35...|(262144,[24370,35...|(262144,[24370,35...|    1|\n",
            "|  4|Forest fire near ...|     1|[forest, fire, ne...|[forest, fire, ne...|(262144,[55310,72...|(262144,[55310,72...|(262144,[55310,72...|    1|\n",
            "|  5|All residents ask...|     1|[all, residents, ...|[residents, asked...|(262144,[38983,70...|(262144,[38983,70...|(262144,[38983,70...|    1|\n",
            "|  6|13,000 people rec...|     1|[13,000, people, ...|[13,000, people, ...|(262144,[38983,11...|(262144,[38983,11...|(262144,[38983,11...|    1|\n",
            "|  7|Just got sent thi...|     1|[just, got, sent,...|[got, sent, photo...|(262144,[52518,52...|(262144,[52518,52...|(262144,[52518,52...|    1|\n",
            "|  8|#RockyFire Update...|     1|[#rockyfire, upda...|[#rockyfire, upda...|(262144,[355,7588...|(262144,[355,7588...|(262144,[355,7588...|    1|\n",
            "| 10|#flood #disaster ...|     1|[#flood, #disaste...|[#flood, #disaste...|(262144,[1797,124...|(262144,[1797,124...|(262144,[1797,124...|    1|\n",
            "| 13|I'm on top of the...|     1|[i'm, on, top, of...|[top, hill, see, ...|(262144,[4106,853...|(262144,[4106,853...|(262144,[4106,853...|    1|\n",
            "| 14|There's an emerge...|     1|[there's, an, eme...|[emergency, evacu...|(262144,[38983,70...|(262144,[38983,70...|(262144,[38983,70...|    1|\n",
            "| 15|I'm afraid that t...|     1|[i'm, afraid, tha...|[afraid, tornado,...|(262144,[12409,87...|(262144,[12409,87...|(262144,[12409,87...|    1|\n",
            "| 16|Three people died...|     1|[three, people, d...|[three, people, d...|(262144,[59791,96...|(262144,[59791,96...|(262144,[59791,96...|    1|\n",
            "| 17|Haha South Tampa ...|     1|[haha, south, tam...|[haha, south, tam...|(262144,[33053,59...|(262144,[33053,59...|(262144,[33053,59...|    1|\n",
            "| 18|#raining #floodin...|     1|[#raining, #flood...|[#raining, #flood...|(262144,[8943,191...|(262144,[8943,191...|(262144,[8943,191...|    1|\n",
            "| 19|#Flood in Bago My...|     1|[#flood, in, bago...|[#flood, bago, my...|(262144,[77073,10...|(262144,[77073,10...|(262144,[77073,10...|    1|\n",
            "| 20|Damage to school ...|     1|[damage, to, scho...|[damage, school, ...|(262144,[12826,61...|(262144,[12826,61...|(262144,[12826,61...|    1|\n",
            "| 23|      What's up man?|     0|  [what's, up, man?]|              [man?]|(262144,[223120],...|(262144,[223120],...|(262144,[223120],...|    0|\n",
            "| 24|       I love fruits|     0|   [i, love, fruits]|      [love, fruits]|(262144,[186480,2...|(262144,[186480,2...|(262144,[186480,2...|    0|\n",
            "| 25|    Summer is lovely|     0|[summer, is, lovely]|    [summer, lovely]|(262144,[167401,1...|(262144,[167401,1...|(262144,[167401,1...|    0|\n",
            "| 26|   My car is so fast|     0|[my, car, is, so,...|         [car, fast]|(262144,[71578,11...|(262144,[71578,11...|(262144,[71578,11...|    0|\n",
            "| 28|What a goooooooaa...|     0|[what, a, goooooo...|[goooooooaaaaaal!...|(262144,[456],[1.0])|(262144,[456],[8....|(262144,[456],[8....|    0|\n",
            "+---+--------------------+------+--------------------+--------------------+--------------------+--------------------+--------------------+-----+\n",
            "only showing top 20 rows\n",
            "\n"
          ],
          "name": "stdout"
        }
      ]
    },
    {
      "cell_type": "code",
      "metadata": {
        "id": "WXO4fkQWPMj4"
      },
      "source": [
        "from pyspark.ml.classification import NaiveBayes\r\n",
        "\r\n",
        "# Create a Naive Bayes model and fit training data\r\n",
        "nb = NaiveBayes()\r\n",
        "predictor = nb.fit(cleaned_train)"
      ],
      "execution_count": null,
      "outputs": []
    },
    {
      "cell_type": "code",
      "metadata": {
        "colab": {
          "base_uri": "https://localhost:8080/"
        },
        "id": "T8lE3XKyQI6G",
        "outputId": "841b96c3-edb7-49ef-cbe0-8b125d53fde1"
      },
      "source": [
        "# Tranform the model with the testing data\r\n",
        "test_results = predictor.transform(cleaned_test)\r\n",
        "test_results.show(5)"
      ],
      "execution_count": null,
      "outputs": [
        {
          "output_type": "stream",
          "text": [
            "+---+--------------------+------+--------------------+--------------------+--------------------+--------------------+--------------------+-----+--------------------+--------------------+----------+\n",
            "| id|                text|target|          token_text|         stop_tokens|          hash_token|           idf_token|            features|label|       rawPrediction|         probability|prediction|\n",
            "+---+--------------------+------+--------------------+--------------------+--------------------+--------------------+--------------------+-----+--------------------+--------------------+----------+\n",
            "|  1|Our Deeds are the...|     1|[our, deeds, are,...|[deeds, reason, #...|(262144,[24370,35...|(262144,[24370,35...|(262144,[24370,35...|    1|[-493.56460695090...|[2.27999902863278...|       1.0|\n",
            "|  4|Forest fire near ...|     1|[forest, fire, ne...|[forest, fire, ne...|(262144,[55310,72...|(262144,[55310,72...|(262144,[55310,72...|    1|[-473.86088609548...|[5.29362798873338...|       1.0|\n",
            "|  5|All residents ask...|     1|[all, residents, ...|[residents, asked...|(262144,[38983,70...|(262144,[38983,70...|(262144,[38983,70...|    1|[-909.59401519816...|[4.44793259788757...|       1.0|\n",
            "|  6|13,000 people rec...|     1|[13,000, people, ...|[13,000, people, ...|(262144,[38983,11...|(262144,[38983,11...|(262144,[38983,11...|    1|[-493.32273071595...|[3.73639914653022...|       1.0|\n",
            "|  7|Just got sent thi...|     1|[just, got, sent,...|[got, sent, photo...|(262144,[52518,52...|(262144,[52518,52...|(262144,[52518,52...|    1|[-625.65585085689...|[1.37684397834801...|       1.0|\n",
            "+---+--------------------+------+--------------------+--------------------+--------------------+--------------------+--------------------+-----+--------------------+--------------------+----------+\n",
            "only showing top 5 rows\n",
            "\n"
          ],
          "name": "stdout"
        }
      ]
    },
    {
      "cell_type": "code",
      "metadata": {
        "colab": {
          "base_uri": "https://localhost:8080/"
        },
        "id": "4jS34IfZQUZv",
        "outputId": "0303d518-14c0-4072-ac6b-25cfb09375be"
      },
      "source": [
        "# Use the Class Evaluator for a cleaner description\r\n",
        "from pyspark.ml.evaluation import MulticlassClassificationEvaluator\r\n",
        "\r\n",
        "acc_eval = MulticlassClassificationEvaluator()\r\n",
        "acc = acc_eval.evaluate(test_results)\r\n",
        "print(\"Accuracy of model at predicting disaster tweets was: %f\" % acc)"
      ],
      "execution_count": 47,
      "outputs": [
        {
          "output_type": "stream",
          "text": [
            "Accuracy of model at predicting disaster tweets was: 0.975716\n"
          ],
          "name": "stdout"
        }
      ]
    }
  ]
}