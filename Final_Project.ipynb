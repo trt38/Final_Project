{
  "nbformat": 4,
  "nbformat_minor": 0,
  "metadata": {
    "colab": {
      "name": "Final_Project.ipynb",
      "provenance": [],
      "collapsed_sections": []
    },
    "kernelspec": {
      "name": "python3",
      "display_name": "Python 3"
    }
  },
  "cells": [
    {
      "cell_type": "code",
      "metadata": {
        "colab": {
          "base_uri": "https://localhost:8080/"
        },
        "id": "7UeTEOHCICPw",
        "outputId": "50b46f9c-d4ad-4772-8a8e-1844cb8c0d34"
      },
      "source": [
        "import os\r\n",
        "# Find the latest version of spark 3.0  from http://www-us.apache.org/dist/spark/ and enter as the spark version\r\n",
        "# For example:\r\n",
        "spark_version = 'spark-3.0.1'\r\n",
        "#spark_version = 'spark-3.0.1'\r\n",
        "os.environ['SPARK_VERSION']=spark_version\r\n",
        "\r\n",
        "# Install Spark and Java\r\n",
        "!apt-get update\r\n",
        "!apt-get install openjdk-11-jdk-headless -qq > /dev/null\r\n",
        "!wget -q http://www-us.apache.org/dist/spark/$SPARK_VERSION/$SPARK_VERSION-bin-hadoop2.7.tgz\r\n",
        "!tar xf $SPARK_VERSION-bin-hadoop2.7.tgz\r\n",
        "!pip install -q findspark\r\n",
        "\r\n",
        "# Set Environment Variables\r\n",
        "os.environ[\"JAVA_HOME\"] = \"/usr/lib/jvm/java-11-openjdk-amd64\"\r\n",
        "os.environ[\"SPARK_HOME\"] = f\"/content/{spark_version}-bin-hadoop2.7\"\r\n",
        "\r\n",
        "# Start a SparkSession\r\n",
        "import findspark\r\n",
        "findspark.init()"
      ],
      "execution_count": 1,
      "outputs": [
        {
          "output_type": "stream",
          "text": [
            "\r0% [Working]\r            \rHit:1 https://cloud.r-project.org/bin/linux/ubuntu bionic-cran40/ InRelease\n",
            "\r0% [Connecting to archive.ubuntu.com (91.189.88.152)] [Waiting for headers] [Co\r                                                                               \rHit:2 http://security.ubuntu.com/ubuntu bionic-security InRelease\n",
            "\r0% [Connecting to archive.ubuntu.com (91.189.88.152)] [Connecting to ppa.launch\r0% [1 InRelease gpgv 3,626 B] [Connecting to archive.ubuntu.com (91.189.88.152)\r                                                                               \rIgn:3 https://developer.download.nvidia.com/compute/cuda/repos/ubuntu1804/x86_64  InRelease\n",
            "\r0% [1 InRelease gpgv 3,626 B] [Waiting for headers] [Connecting to ppa.launchpa\r                                                                               \rIgn:4 https://developer.download.nvidia.com/compute/machine-learning/repos/ubuntu1804/x86_64  InRelease\n",
            "Hit:5 https://developer.download.nvidia.com/compute/cuda/repos/ubuntu1804/x86_64  Release\n",
            "Hit:6 https://developer.download.nvidia.com/compute/machine-learning/repos/ubuntu1804/x86_64  Release\n",
            "Hit:7 http://ppa.launchpad.net/c2d4u.team/c2d4u4.0+/ubuntu bionic InRelease\n",
            "Hit:8 http://archive.ubuntu.com/ubuntu bionic InRelease\n",
            "Hit:9 http://archive.ubuntu.com/ubuntu bionic-updates InRelease\n",
            "Hit:10 http://ppa.launchpad.net/cran/libgit2/ubuntu bionic InRelease\n",
            "Hit:11 http://archive.ubuntu.com/ubuntu bionic-backports InRelease\n",
            "Hit:12 http://ppa.launchpad.net/graphics-drivers/ppa/ubuntu bionic InRelease\n",
            "Reading package lists... Done\n"
          ],
          "name": "stdout"
        }
      ]
    },
    {
      "cell_type": "code",
      "metadata": {
        "id": "OQY0NH8uIM2K"
      },
      "source": [
        "# Start Spark session\r\n",
        "from pyspark.sql import SparkSession\r\n",
        "spark = SparkSession.builder.appName(\"NaiveBayes\").getOrCreate()"
      ],
      "execution_count": 2,
      "outputs": []
    },
    {
      "cell_type": "code",
      "metadata": {
        "id": "lgpsuU6bI1Kh"
      },
      "source": [
        "#Load training dataset \r\n",
        "\r\n",
        "train_df = spark.read.csv(\"./train.csv\", inferSchema= True, header = True)"
      ],
      "execution_count": 3,
      "outputs": []
    },
    {
      "cell_type": "code",
      "metadata": {
        "colab": {
          "base_uri": "https://localhost:8080/"
        },
        "id": "OIA6RisNJDoi",
        "outputId": "3c3f81b5-ce3e-4595-b2db-207c5aad9c10"
      },
      "source": [
        "train_df.show()"
      ],
      "execution_count": 4,
      "outputs": [
        {
          "output_type": "stream",
          "text": [
            "+---+-------+--------+--------------------+------+\n",
            "| id|keyword|location|                text|target|\n",
            "+---+-------+--------+--------------------+------+\n",
            "|  1|   null|    null|Our Deeds are the...|     1|\n",
            "|  4|   null|    null|Forest fire near ...|     1|\n",
            "|  5|   null|    null|All residents ask...|     1|\n",
            "|  6|   null|    null|13,000 people rec...|     1|\n",
            "|  7|   null|    null|Just got sent thi...|     1|\n",
            "|  8|   null|    null|#RockyFire Update...|     1|\n",
            "| 10|   null|    null|#flood #disaster ...|     1|\n",
            "| 13|   null|    null|I'm on top of the...|     1|\n",
            "| 14|   null|    null|There's an emerge...|     1|\n",
            "| 15|   null|    null|I'm afraid that t...|     1|\n",
            "| 16|   null|    null|Three people died...|     1|\n",
            "| 17|   null|    null|Haha South Tampa ...|     1|\n",
            "| 18|   null|    null|#raining #floodin...|     1|\n",
            "| 19|   null|    null|#Flood in Bago My...|     1|\n",
            "| 20|   null|    null|Damage to school ...|     1|\n",
            "| 23|   null|    null|      What's up man?|     0|\n",
            "| 24|   null|    null|       I love fruits|     0|\n",
            "| 25|   null|    null|    Summer is lovely|     0|\n",
            "| 26|   null|    null|   My car is so fast|     0|\n",
            "| 28|   null|    null|What a goooooooaa...|     0|\n",
            "+---+-------+--------+--------------------+------+\n",
            "only showing top 20 rows\n",
            "\n"
          ],
          "name": "stdout"
        }
      ]
    },
    {
      "cell_type": "code",
      "metadata": {
        "colab": {
          "base_uri": "https://localhost:8080/"
        },
        "id": "V2fRUd1OJpnY",
        "outputId": "2d84b036-f928-47a9-85cb-ce2fada01695"
      },
      "source": [
        "train_df.printSchema()"
      ],
      "execution_count": 5,
      "outputs": [
        {
          "output_type": "stream",
          "text": [
            "root\n",
            " |-- id: string (nullable = true)\n",
            " |-- keyword: string (nullable = true)\n",
            " |-- location: string (nullable = true)\n",
            " |-- text: string (nullable = true)\n",
            " |-- target: integer (nullable = true)\n",
            "\n"
          ],
          "name": "stdout"
        }
      ]
    },
    {
      "cell_type": "code",
      "metadata": {
        "colab": {
          "base_uri": "https://localhost:8080/"
        },
        "id": "naNgGYVuL55j",
        "outputId": "3abe8fb9-10a5-4679-e436-ff1367bf91cf"
      },
      "source": [
        "train_df.describe()"
      ],
      "execution_count": 6,
      "outputs": [
        {
          "output_type": "execute_result",
          "data": {
            "text/plain": [
              "DataFrame[summary: string, id: string, keyword: string, location: string, text: string, target: string]"
            ]
          },
          "metadata": {
            "tags": []
          },
          "execution_count": 6
        }
      ]
    },
    {
      "cell_type": "code",
      "metadata": {
        "colab": {
          "base_uri": "https://localhost:8080/"
        },
        "id": "1se4Pp1uMUM_",
        "outputId": "d4df2a80-3565-42b3-e697-0b7751bcb7d7"
      },
      "source": [
        "#Remove extraneous columns\r\n",
        "\r\n",
        "trainer_df = train_df.select(\"id\", \"text\", \"target\")\r\n",
        "\r\n",
        "trainer_df.show()"
      ],
      "execution_count": 7,
      "outputs": [
        {
          "output_type": "stream",
          "text": [
            "+---+--------------------+------+\n",
            "| id|                text|target|\n",
            "+---+--------------------+------+\n",
            "|  1|Our Deeds are the...|     1|\n",
            "|  4|Forest fire near ...|     1|\n",
            "|  5|All residents ask...|     1|\n",
            "|  6|13,000 people rec...|     1|\n",
            "|  7|Just got sent thi...|     1|\n",
            "|  8|#RockyFire Update...|     1|\n",
            "| 10|#flood #disaster ...|     1|\n",
            "| 13|I'm on top of the...|     1|\n",
            "| 14|There's an emerge...|     1|\n",
            "| 15|I'm afraid that t...|     1|\n",
            "| 16|Three people died...|     1|\n",
            "| 17|Haha South Tampa ...|     1|\n",
            "| 18|#raining #floodin...|     1|\n",
            "| 19|#Flood in Bago My...|     1|\n",
            "| 20|Damage to school ...|     1|\n",
            "| 23|      What's up man?|     0|\n",
            "| 24|       I love fruits|     0|\n",
            "| 25|    Summer is lovely|     0|\n",
            "| 26|   My car is so fast|     0|\n",
            "| 28|What a goooooooaa...|     0|\n",
            "+---+--------------------+------+\n",
            "only showing top 20 rows\n",
            "\n"
          ],
          "name": "stdout"
        }
      ]
    },
    {
      "cell_type": "code",
      "metadata": {
        "id": "r1ohIbZiNHQv"
      },
      "source": [
        "trainer_df = trainer_df.dropna()"
      ],
      "execution_count": 8,
      "outputs": []
    },
    {
      "cell_type": "code",
      "metadata": {
        "id": "sfcg1ew99vV8"
      },
      "source": [
        "from pyspark.sql.functions import col\r\n",
        "\r\n",
        "trainer_df = trainer_df.withColumn(\"label\",col('target'))"
      ],
      "execution_count": 9,
      "outputs": []
    },
    {
      "cell_type": "code",
      "metadata": {
        "id": "zMGL2cMcNSeg"
      },
      "source": [
        "from pyspark.ml.feature import Tokenizer, StopWordsRemover, HashingTF, IDF, StringIndexer\r\n",
        "# Create all the features to the data set\r\n",
        "#pos_neg_to_num = StringIndexer(inputCol='class',outputCol='label')\r\n",
        "tokenizer = Tokenizer(inputCol=\"text\", outputCol=\"token_text\")\r\n",
        "stopremove = StopWordsRemover(inputCol='token_text',outputCol='stop_tokens')\r\n",
        "hashingTF = HashingTF(inputCol=\"stop_tokens\", outputCol='hash_token')\r\n",
        "idf = IDF(inputCol='hash_token', outputCol='idf_token')"
      ],
      "execution_count": 14,
      "outputs": []
    },
    {
      "cell_type": "code",
      "metadata": {
        "id": "uFNpeHHhN1dw"
      },
      "source": [
        "from pyspark.ml.feature import VectorAssembler\r\n",
        "from pyspark.ml.linalg import Vector\r\n",
        "\r\n",
        "# Create feature vectors\r\n",
        "clean_up = VectorAssembler(inputCols=['idf_token'], outputCol='features')"
      ],
      "execution_count": 15,
      "outputs": []
    },
    {
      "cell_type": "code",
      "metadata": {
        "id": "EUVe0vUZN6-A"
      },
      "source": [
        "# Create a and run a data processing Pipeline\r\n",
        "from pyspark.ml import Pipeline\r\n",
        "data_prep_pipeline = Pipeline(stages=[tokenizer, stopremove, hashingTF, idf, clean_up])"
      ],
      "execution_count": 16,
      "outputs": []
    },
    {
      "cell_type": "code",
      "metadata": {
        "id": "77IST7uxO7do"
      },
      "source": [
        "# Fit and transform the pipeline\r\n",
        "cleaner_train = data_prep_pipeline.fit(trainer_df)\r\n",
        "cleaned_train = cleaner_train.transform(trainer_df)"
      ],
      "execution_count": 17,
      "outputs": []
    },
    {
      "cell_type": "code",
      "metadata": {
        "colab": {
          "base_uri": "https://localhost:8080/"
        },
        "id": "kIv78CMpPAKv",
        "outputId": "97d15084-abfe-494d-a37b-e55868a40e76"
      },
      "source": [
        "# Show label and resulting features\r\n",
        "cleaned_train.show()"
      ],
      "execution_count": 18,
      "outputs": [
        {
          "output_type": "stream",
          "text": [
            "+---+--------------------+------+-----+--------------------+--------------------+--------------------+--------------------+--------------------+\n",
            "| id|                text|target|label|          token_text|         stop_tokens|          hash_token|           idf_token|            features|\n",
            "+---+--------------------+------+-----+--------------------+--------------------+--------------------+--------------------+--------------------+\n",
            "|  1|Our Deeds are the...|     1|    1|[our, deeds, are,...|[deeds, reason, #...|(262144,[24370,35...|(262144,[24370,35...|(262144,[24370,35...|\n",
            "|  4|Forest fire near ...|     1|    1|[forest, fire, ne...|[forest, fire, ne...|(262144,[55310,72...|(262144,[55310,72...|(262144,[55310,72...|\n",
            "|  5|All residents ask...|     1|    1|[all, residents, ...|[residents, asked...|(262144,[38983,70...|(262144,[38983,70...|(262144,[38983,70...|\n",
            "|  6|13,000 people rec...|     1|    1|[13,000, people, ...|[13,000, people, ...|(262144,[38983,11...|(262144,[38983,11...|(262144,[38983,11...|\n",
            "|  7|Just got sent thi...|     1|    1|[just, got, sent,...|[got, sent, photo...|(262144,[52518,52...|(262144,[52518,52...|(262144,[52518,52...|\n",
            "|  8|#RockyFire Update...|     1|    1|[#rockyfire, upda...|[#rockyfire, upda...|(262144,[355,7588...|(262144,[355,7588...|(262144,[355,7588...|\n",
            "| 10|#flood #disaster ...|     1|    1|[#flood, #disaste...|[#flood, #disaste...|(262144,[1797,124...|(262144,[1797,124...|(262144,[1797,124...|\n",
            "| 13|I'm on top of the...|     1|    1|[i'm, on, top, of...|[top, hill, see, ...|(262144,[4106,853...|(262144,[4106,853...|(262144,[4106,853...|\n",
            "| 14|There's an emerge...|     1|    1|[there's, an, eme...|[emergency, evacu...|(262144,[38983,70...|(262144,[38983,70...|(262144,[38983,70...|\n",
            "| 15|I'm afraid that t...|     1|    1|[i'm, afraid, tha...|[afraid, tornado,...|(262144,[12409,87...|(262144,[12409,87...|(262144,[12409,87...|\n",
            "| 16|Three people died...|     1|    1|[three, people, d...|[three, people, d...|(262144,[59791,96...|(262144,[59791,96...|(262144,[59791,96...|\n",
            "| 17|Haha South Tampa ...|     1|    1|[haha, south, tam...|[haha, south, tam...|(262144,[33053,59...|(262144,[33053,59...|(262144,[33053,59...|\n",
            "| 18|#raining #floodin...|     1|    1|[#raining, #flood...|[#raining, #flood...|(262144,[8943,191...|(262144,[8943,191...|(262144,[8943,191...|\n",
            "| 19|#Flood in Bago My...|     1|    1|[#flood, in, bago...|[#flood, bago, my...|(262144,[77073,10...|(262144,[77073,10...|(262144,[77073,10...|\n",
            "| 20|Damage to school ...|     1|    1|[damage, to, scho...|[damage, school, ...|(262144,[12826,61...|(262144,[12826,61...|(262144,[12826,61...|\n",
            "| 23|      What's up man?|     0|    0|  [what's, up, man?]|              [man?]|(262144,[223120],...|(262144,[223120],...|(262144,[223120],...|\n",
            "| 24|       I love fruits|     0|    0|   [i, love, fruits]|      [love, fruits]|(262144,[186480,2...|(262144,[186480,2...|(262144,[186480,2...|\n",
            "| 25|    Summer is lovely|     0|    0|[summer, is, lovely]|    [summer, lovely]|(262144,[167401,1...|(262144,[167401,1...|(262144,[167401,1...|\n",
            "| 26|   My car is so fast|     0|    0|[my, car, is, so,...|         [car, fast]|(262144,[71578,11...|(262144,[71578,11...|(262144,[71578,11...|\n",
            "| 28|What a goooooooaa...|     0|    0|[what, a, goooooo...|[goooooooaaaaaal!...|(262144,[456],[1.0])|(262144,[456],[8....|(262144,[456],[8....|\n",
            "+---+--------------------+------+-----+--------------------+--------------------+--------------------+--------------------+--------------------+\n",
            "only showing top 20 rows\n",
            "\n"
          ],
          "name": "stdout"
        }
      ]
    },
    {
      "cell_type": "code",
      "metadata": {
        "id": "WXO4fkQWPMj4"
      },
      "source": [
        "from pyspark.ml.classification import NaiveBayes\r\n",
        "\r\n",
        "# Break data down into a training set and a testing set\r\n",
        "training, testing = cleaned_train.randomSplit([0.7, 0.3])\r\n",
        "\r\n",
        "# Create a Naive Bayes model and fit training data\r\n",
        "nb = NaiveBayes()\r\n",
        "predictor = nb.fit(training)"
      ],
      "execution_count": 19,
      "outputs": []
    },
    {
      "cell_type": "code",
      "metadata": {
        "colab": {
          "base_uri": "https://localhost:8080/"
        },
        "id": "T8lE3XKyQI6G",
        "outputId": "e4d8ddec-7216-4659-ca83-8f229708bb7c"
      },
      "source": [
        "# Tranform the model with the testing data\r\n",
        "test_results = predictor.transform(testing)\r\n",
        "test_results.show(5)"
      ],
      "execution_count": 20,
      "outputs": [
        {
          "output_type": "stream",
          "text": [
            "+-----+--------------------+------+-----+--------------------+--------------------+--------------------+--------------------+--------------------+--------------------+--------------------+----------+\n",
            "|   id|                text|target|label|          token_text|         stop_tokens|          hash_token|           idf_token|            features|       rawPrediction|         probability|prediction|\n",
            "+-----+--------------------+------+-----+--------------------+--------------------+--------------------+--------------------+--------------------+--------------------+--------------------+----------+\n",
            "|    1|Our Deeds are the...|     1|    1|[our, deeds, are,...|[deeds, reason, #...|(262144,[24370,35...|(262144,[24370,35...|(262144,[24370,35...|[-490.47440244635...|[1.05211953043298...|       1.0|\n",
            "|10005|  All of this energy|     0|    0|[all, of, this, e...|            [energy]|(262144,[109955],...|(262144,[109955],...|(262144,[109955],...|[-73.513936482542...|[0.98512631121248...|       0.0|\n",
            "|10009|Gail and Russell ...|     1|    1|[gail, and, russe...|[gail, russell, s...|(262144,[17893,31...|(262144,[17893,31...|(262144,[17893,31...|[-969.30178372575...|[0.52776204381829...|       0.0|\n",
            "|10013|love 106.1 The Tw...|     0|    0|[love, 106.1, the...|[love, 106.1, twi...|(262144,[31615,59...|(262144,[31615,59...|(262144,[31615,59...|[-606.81318046635...|[0.99999999999998...|       0.0|\n",
            "|10023|@sarahmcpants @Ju...|     0|    0|[@sarahmcpants, @...|[@sarahmcpants, @...|(262144,[2497,316...|(262144,[2497,316...|(262144,[2497,316...|[-425.17801184137...|[0.98342381481653...|       0.0|\n",
            "+-----+--------------------+------+-----+--------------------+--------------------+--------------------+--------------------+--------------------+--------------------+--------------------+----------+\n",
            "only showing top 5 rows\n",
            "\n"
          ],
          "name": "stdout"
        }
      ]
    },
    {
      "cell_type": "code",
      "metadata": {
        "colab": {
          "base_uri": "https://localhost:8080/"
        },
        "id": "4jS34IfZQUZv",
        "outputId": "562a57ab-1335-4703-ef95-3a7ae894a4e0"
      },
      "source": [
        "# Use the Class Evaluator for a cleaner description\r\n",
        "from pyspark.ml.evaluation import MulticlassClassificationEvaluator\r\n",
        "\r\n",
        "acc_eval = MulticlassClassificationEvaluator()\r\n",
        "acc = acc_eval.evaluate(test_results)\r\n",
        "print(\"Accuracy of model at predicting disaster tweets was: %f\" % acc)"
      ],
      "execution_count": 21,
      "outputs": [
        {
          "output_type": "stream",
          "text": [
            "Accuracy of model at predicting disaster tweets was: 0.769555\n"
          ],
          "name": "stdout"
        }
      ]
    },
    {
      "cell_type": "code",
      "metadata": {
        "id": "LHNp-Naj_cDV"
      },
      "source": [
        ""
      ],
      "execution_count": null,
      "outputs": []
    }
  ]
}